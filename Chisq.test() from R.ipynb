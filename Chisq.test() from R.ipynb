{
 "cells": [
  {
   "cell_type": "markdown",
   "id": "cac8b8ff",
   "metadata": {},
   "source": [
    "# Chi squared for  goodness of fit test\n",
    "\n",
    "*X* should be a list with **frequencies** (*X* is treated as a *one-dimensional contingency table*).\n",
    "The entries of x must be **non-negative** integers. \n",
    "In this case, the hypothesis tested is whether the population probabilities **equal those in p**, or are all *equal* if *p* is **not given**.\n",
    "\n",
    "If `simulate_p_value` is computed for a **Monte Carlo test (Hope, 1968)** with **B** replicates.\n",
    "\n",
    "In the **goodness-of-fit** case simulation is done *by random sampling* from the *discrete distribution specified by p*, each sample being of *size n = sum(x)*. "
   ]
  },
  {
   "cell_type": "code",
   "execution_count": 53,
   "id": "da5b2622",
   "metadata": {},
   "outputs": [],
   "source": [
    "import numpy as np    "
   ]
  },
  {
   "cell_type": "code",
   "execution_count": 61,
   "id": "f54a3231",
   "metadata": {},
   "outputs": [],
   "source": [
    "def chisq_test_simple(X,\n",
    "                      p=[],\n",
    "                      B=2000\n",
    "                     ):\n",
    "    n = sum(X)\n",
    "    \n",
    "    if len(p) == 0:\n",
    "        p = np.repeat(np.array([1/len(X)]), len(X), axis=0)\n",
    "    else:\n",
    "        p = np.array(p)\n",
    "        \n",
    "    E = n * p\n",
    "    STATISTIC = sum((X - E) ** 2 / E)\n",
    "    almost_1 = 1 - 64 * 0.000000001\n",
    "    \n",
    "    nx = len(X)\n",
    "    \n",
    "    sm = np.random.choice(nx, size = B * n, replace = True, p = p)\n",
    "\n",
    "    # Make it matrix type\n",
    "    sm = np.reshape(sm, (-1, n))\n",
    "\n",
    "    def my_func(x, E):\n",
    "        counts = np.unique(x, return_counts=True)[1]    \n",
    "        return sum((counts - E)**2 / E)\n",
    "\n",
    "    ss = np.apply_along_axis(my_func, 1, sm, E=E) # staca 2000 hat chi squared \n",
    "    # hashvi bolor ayn depqery vortex sim chi square > mer chi sq\n",
    "    simulate_p_value = (1 + sum(ss >= almost_1 * STATISTIC))/(B + 1)\n",
    "\n",
    "    return [\"The Chi Squared statistics is:\", STATISTIC, \"The P-value is:\", simulate_p_value]"
   ]
  },
  {
   "cell_type": "code",
   "execution_count": 64,
   "id": "baf359f4",
   "metadata": {},
   "outputs": [
    {
     "data": {
      "text/plain": [
       "['The Chi Squared statistics is:',\n",
       " 0.8474576271186443,\n",
       " 'The P-value is:',\n",
       " 0.975512243878061]"
      ]
     },
     "execution_count": 64,
     "metadata": {},
     "output_type": "execute_result"
    }
   ],
   "source": [
    "chisq_test_simple([180,250,120,225,225])\n",
    "\n",
    "# From R\n",
    "#chisq_test_simple([10,15,20,10,10,15,25,10]) # should be X-squared = 15.435, df = NA, p-value = 0.02899\n",
    "\n",
    "# From R\n",
    "#chisq_test_simple([100,90,100,100,100,100]) # should be X-squared = 0.84746, df = NA, p-value = 0.9755\n"
   ]
  },
  {
   "cell_type": "code",
   "execution_count": 60,
   "id": "97146cc0",
   "metadata": {},
   "outputs": [
    {
     "data": {
      "text/plain": [
       "['The Chi Squared statistics is:',\n",
       " 2949.3922413793102,\n",
       " 'The P-value is:',\n",
       " 0.0004997501249375312]"
      ]
     },
     "execution_count": 60,
     "metadata": {},
     "output_type": "execute_result"
    }
   ],
   "source": [
    "chisq_test_simple(X=[180,250,120,225,225], p=[0.01,0.29,0.2,0.2,0.3])"
   ]
  },
  {
   "cell_type": "markdown",
   "id": "43fb08dd",
   "metadata": {},
   "source": [
    "### More detailed see codes below"
   ]
  },
  {
   "cell_type": "code",
   "execution_count": 30,
   "id": "7f3ccf0f",
   "metadata": {},
   "outputs": [
    {
     "data": {
      "image/png": "[encoded data removed]",
      "text/plain": [
       "<Figure size 432x288 with 1 Axes>"
      ]
     },
     "metadata": {
      "needs_background": "light"
     },
     "output_type": "display_data"
    }
   ],
   "source": [
    "problems =[[\"DifEquations\",  \"Geom\", \"Linear\", \"Math\", \"Topology\"],\n",
    "            [180,250,120,225,225]]\n",
    "from matplotlib import pyplot as plt\n",
    "# Plot bar chart with data points\n",
    "plt.bar(problems[0], problems[1],\n",
    "        color=plt.get_cmap('Paired').colors, edgecolor='k', \n",
    "        linewidth=2)\n",
    "plt.axhline(y = 200, color = 'r', linestyle = 'dotted')\n",
    "# Display the plot\n",
    "plt.show()"
   ]
  },
  {
   "cell_type": "markdown",
   "id": "7f6345e2",
   "metadata": {},
   "source": [
    "* a. Observed - Expected\n",
    "* b.  We square the difference\n",
    "* c. we divide the squared difference by the expected number:\n",
    "* d. we add the numbers in the final column to calculate our test statistic:\n",
    "* e.For the goodness of fit test, this is one fewer than the number of categories"
   ]
  },
  {
   "cell_type": "code",
   "execution_count": 31,
   "id": "982e35dd",
   "metadata": {},
   "outputs": [
    {
     "data": {
      "text/plain": [
       "[['DifEquations', 'Geom', 'Linear', 'Math', 'Topology'],\n",
       " [180, 250, 120, 225, 225],\n",
       " [200, 200, 200, 200, 200]]"
      ]
     },
     "execution_count": 31,
     "metadata": {},
     "output_type": "execute_result"
    }
   ],
   "source": [
    "problems =[[\"DifEquations\",  \"Geom\", \"Linear\", \"Math\", \"Topology\"],\n",
    "            [180,250,120,225,225]]\n",
    "problems.append([200,200,200,200,200])\n",
    "problems"
   ]
  },
  {
   "cell_type": "code",
   "execution_count": 32,
   "id": "36c0c9d4",
   "metadata": {},
   "outputs": [
    {
     "data": {
      "text/plain": [
       "[['DifEquations', 'Geom', 'Linear', 'Math', 'Topology'],\n",
       " [180, 250, 120, 225, 225],\n",
       " [200, 200, 200, 200, 200],\n",
       " [-20, 50, -80, 25, 25]]"
      ]
     },
     "execution_count": 32,
     "metadata": {},
     "output_type": "execute_result"
    }
   ],
   "source": [
    "Obs_Exp = [a_i - b_i for a_i, b_i in zip(problems[1], problems[2])]\n",
    "problems.append(Obs_Exp)\n",
    "problems"
   ]
  },
  {
   "cell_type": "code",
   "execution_count": 33,
   "id": "32531e6f",
   "metadata": {},
   "outputs": [
    {
     "data": {
      "text/plain": [
       "[['DifEquations', 'Geom', 'Linear', 'Math', 'Topology'],\n",
       " [180, 250, 120, 225, 225],\n",
       " [200, 200, 200, 200, 200],\n",
       " [-20, 50, -80, 25, 25],\n",
       " [400, 2500, 6400, 625, 625]]"
      ]
     },
     "execution_count": 33,
     "metadata": {},
     "output_type": "execute_result"
    }
   ],
   "source": [
    "def turn_to_power(list, power=1): \n",
    "    return [number**power for number in list]\n",
    "\n",
    "SquaraedDifference = turn_to_power(problems[3],2)\n",
    "problems.append(SquaraedDifference)\n",
    "problems"
   ]
  },
  {
   "cell_type": "code",
   "execution_count": 34,
   "id": "89d26b9c",
   "metadata": {},
   "outputs": [
    {
     "data": {
      "text/plain": [
       "[['DifEquations', 'Geom', 'Linear', 'Math', 'Topology'],\n",
       " [180, 250, 120, 225, 225],\n",
       " [200, 200, 200, 200, 200],\n",
       " [-20, 50, -80, 25, 25],\n",
       " [400, 2500, 6400, 625, 625],\n",
       " [2.0, 12.5, 32.0, 3.125, 3.125]]"
      ]
     },
     "execution_count": 34,
     "metadata": {},
     "output_type": "execute_result"
    }
   ],
   "source": [
    "SquaraedDifference_div_Expected = [i / j for i, j in zip(problems[4], problems[2])]\n",
    "\n",
    "problems.append(SquaraedDifference_div_Expected)\n",
    "problems"
   ]
  },
  {
   "cell_type": "code",
   "execution_count": 35,
   "id": "85422350",
   "metadata": {},
   "outputs": [
    {
     "data": {
      "text/plain": [
       "(6, 5)"
      ]
     },
     "execution_count": 35,
     "metadata": {},
     "output_type": "execute_result"
    }
   ],
   "source": [
    "problems1 = np.array(problems)\n",
    "problems1.shape"
   ]
  },
  {
   "cell_type": "code",
   "execution_count": 36,
   "id": "785e470d",
   "metadata": {},
   "outputs": [
    {
     "data": {
      "text/plain": [
       "52.75"
      ]
     },
     "execution_count": 36,
     "metadata": {},
     "output_type": "execute_result"
    }
   ],
   "source": [
    "sum(problems[5])"
   ]
  },
  {
   "cell_type": "code",
   "execution_count": 37,
   "id": "2e9f58b3",
   "metadata": {},
   "outputs": [
    {
     "data": {
      "text/plain": [
       "array([200., 200., 200., 200., 200.])"
      ]
     },
     "execution_count": 37,
     "metadata": {},
     "output_type": "execute_result"
    }
   ],
   "source": [
    "X = problems[1]\n",
    "n = sum(X)\n",
    "\n",
    "p = np.repeat(np.array([1/len(X)]), len(X), axis=0)\n",
    "\n",
    "E = n * p\n",
    "E"
   ]
  },
  {
   "cell_type": "code",
   "execution_count": 38,
   "id": "ce20d4bd",
   "metadata": {},
   "outputs": [
    {
     "data": {
      "text/plain": [
       "52.75"
      ]
     },
     "execution_count": 38,
     "metadata": {},
     "output_type": "execute_result"
    }
   ],
   "source": [
    "STATISTIC = sum((X - E) ** 2 / E)\n",
    "STATISTIC"
   ]
  },
  {
   "cell_type": "code",
   "execution_count": 39,
   "id": "7290aacd",
   "metadata": {},
   "outputs": [
    {
     "data": {
      "text/plain": [
       "0.999999936"
      ]
     },
     "execution_count": 39,
     "metadata": {},
     "output_type": "execute_result"
    }
   ],
   "source": [
    "almost_1 = 1 - 64 * 0.000000001\n",
    "almost_1"
   ]
  },
  {
   "cell_type": "code",
   "execution_count": 40,
   "id": "aab8f41a",
   "metadata": {},
   "outputs": [
    {
     "data": {
      "text/plain": [
       "5"
      ]
     },
     "execution_count": 40,
     "metadata": {},
     "output_type": "execute_result"
    }
   ],
   "source": [
    "B=2000\n",
    "nx = len(X)\n",
    "nx"
   ]
  },
  {
   "cell_type": "code",
   "execution_count": 41,
   "id": "f0c3256c",
   "metadata": {},
   "outputs": [
    {
     "data": {
      "text/plain": [
       "array([0, 1, 3, ..., 3, 1, 0])"
      ]
     },
     "execution_count": 41,
     "metadata": {},
     "output_type": "execute_result"
    }
   ],
   "source": [
    "#np.random.choice(nx, size=B*n, replace=True, p=p)\n",
    "len(np.random.choice(nx, size=B*n, replace=True, p=p))\n",
    "\n",
    "sm = np.random.choice(nx, size=B*n, replace=True, p=p)\n",
    "sm"
   ]
  },
  {
   "cell_type": "code",
   "execution_count": 42,
   "id": "18154571",
   "metadata": {},
   "outputs": [
    {
     "name": "stdout",
     "output_type": "stream",
     "text": [
      "[[0 1 3 ... 2 0 0]\n",
      " [4 1 2 ... 0 0 0]\n",
      " [4 3 1 ... 4 4 1]\n",
      " ...\n",
      " [2 1 0 ... 4 0 1]\n",
      " [4 4 1 ... 0 0 1]\n",
      " [4 0 2 ... 3 1 0]]\n"
     ]
    }
   ],
   "source": [
    "# Make it matrix type\n",
    "sm = np.reshape(sm, (-1, n))\n",
    "print(sm)"
   ]
  },
  {
   "cell_type": "code",
   "execution_count": 43,
   "id": "efdcdcce",
   "metadata": {},
   "outputs": [
    {
     "data": {
      "text/plain": [
       "(2000, 1000)"
      ]
     },
     "execution_count": 43,
     "metadata": {},
     "output_type": "execute_result"
    }
   ],
   "source": [
    "sm.shape\n",
    "#2000 sjyun (irakan), 1000 tox - horizonakan\n",
    "#|||||"
   ]
  },
  {
   "cell_type": "code",
   "execution_count": 44,
   "id": "891ce500",
   "metadata": {},
   "outputs": [
    {
     "data": {
      "image/png": "[encoded data removed]",
      "text/plain": [
       "<Figure size 432x288 with 1 Axes>"
      ]
     },
     "metadata": {
      "needs_background": "light"
     },
     "output_type": "display_data"
    }
   ],
   "source": [
    "y_for_graph = np.unique(sm[0], return_counts=True)[1]\n",
    "plt.bar(problems[0], y_for_graph,\n",
    "        color=plt.get_cmap('Paired').colors, edgecolor='k', \n",
    "        linewidth=2)\n",
    "plt.axhline(y = 200, color = 'r', linestyle = 'dotted')\n",
    "plt.show()"
   ]
  },
  {
   "cell_type": "code",
   "execution_count": 45,
   "id": "2098ebd2",
   "metadata": {},
   "outputs": [
    {
     "data": {
      "image/png": "[encoded data removed]",
      "text/plain": [
       "<Figure size 432x288 with 1 Axes>"
      ]
     },
     "metadata": {
      "needs_background": "light"
     },
     "output_type": "display_data"
    }
   ],
   "source": [
    "y_for_graph = np.unique(sm[1500], return_counts=True)[1]\n",
    "plt.bar(problems[0], y_for_graph,\n",
    "        color=plt.get_cmap('Paired').colors, edgecolor='k', \n",
    "        linewidth=2)\n",
    "plt.axhline(y = 200, color = 'r', linestyle = 'dotted')\n",
    "plt.show()"
   ]
  },
  {
   "cell_type": "code",
   "execution_count": 46,
   "id": "d97d3454",
   "metadata": {},
   "outputs": [
    {
     "data": {
      "image/png": "[encoded data removed]",
      "text/plain": [
       "<Figure size 432x288 with 1 Axes>"
      ]
     },
     "metadata": {
      "needs_background": "light"
     },
     "output_type": "display_data"
    }
   ],
   "source": [
    "y_for_graph = np.unique(sm[1999], return_counts=True)[1]\n",
    "plt.bar(problems[0], y_for_graph,\n",
    "        color=plt.get_cmap('Paired').colors, edgecolor='k', \n",
    "        linewidth=2)\n",
    "plt.axhline(y = 200, color = 'r', linestyle = 'dotted')\n",
    "plt.show()"
   ]
  },
  {
   "cell_type": "code",
   "execution_count": 47,
   "id": "15cfe77a",
   "metadata": {},
   "outputs": [
    {
     "data": {
      "text/plain": [
       "array([1., 1., 1., 1., 1.])"
      ]
     },
     "execution_count": 47,
     "metadata": {},
     "output_type": "execute_result"
    }
   ],
   "source": [
    "counts = np.unique(sm[1500], return_counts=True)[1] \n",
    "E/E"
   ]
  },
  {
   "cell_type": "code",
   "execution_count": 48,
   "id": "5634d8eb",
   "metadata": {},
   "outputs": [
    {
     "data": {
      "text/plain": [
       "3.0199999999999996"
      ]
     },
     "execution_count": 48,
     "metadata": {},
     "output_type": "execute_result"
    }
   ],
   "source": [
    "def my_func(x, E):\n",
    "    \n",
    "    counts = np.unique(x, return_counts=True)[1]    \n",
    "    \n",
    "    return  sum((counts - E)**2 / E)\n",
    "\n",
    "my_func(sm[1], E = E)"
   ]
  },
  {
   "cell_type": "code",
   "execution_count": 49,
   "id": "b26b9b4d",
   "metadata": {},
   "outputs": [],
   "source": [
    "#print(my_func(sm, E))\n",
    "ss = np.apply_along_axis(my_func, 1, sm, E=E) # staca 2000 hat chi squared "
   ]
  },
  {
   "cell_type": "code",
   "execution_count": 50,
   "id": "1c9abe81",
   "metadata": {},
   "outputs": [],
   "source": [
    "# hashvi bolor ayn depqery vortex sim chi square > mer chi sq\n",
    "PVAL = (1 + sum(ss >= almost_1 * STATISTIC))/(B + 1)"
   ]
  },
  {
   "cell_type": "code",
   "execution_count": 51,
   "id": "0109cfbd",
   "metadata": {},
   "outputs": [
    {
     "data": {
      "text/plain": [
       "0.0004997501249375312"
      ]
     },
     "execution_count": 51,
     "metadata": {},
     "output_type": "execute_result"
    }
   ],
   "source": [
    "PVAL"
   ]
  }
 ],
 "metadata": {
  "kernelspec": {
   "display_name": "Python 3",
   "language": "python",
   "name": "python3"
  },
  "language_info": {
   "codemirror_mode": {
    "name": "ipython",
    "version": 3
   },
   "file_extension": ".py",
   "mimetype": "text/x-python",
   "name": "python",
   "nbconvert_exporter": "python",
   "pygments_lexer": "ipython3",
   "version": "3.8.8"
  }
 },
 "nbformat": 4,
 "nbformat_minor": 5
}
