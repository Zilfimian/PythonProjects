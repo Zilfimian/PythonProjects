{
 "cells": [
  {
   "cell_type": "code",
   "execution_count": 8,
   "id": "6a2e9cf9",
   "metadata": {},
   "outputs": [],
   "source": [
    "import numpy as np    "
   ]
  },
  {
   "cell_type": "code",
   "execution_count": 9,
   "id": "1fd4be8e",
   "metadata": {},
   "outputs": [
    {
     "data": {
      "text/plain": [
       "[0, 1, 0, 2]"
      ]
     },
     "execution_count": 9,
     "metadata": {},
     "output_type": "execute_result"
    }
   ],
   "source": [
    "# table with factor\n",
    "def table(lst):\n",
    "    count_L = []\n",
    "    \n",
    "    for i in range(max(lst)+1):\n",
    "        count = 0\n",
    "        \n",
    "        for ele in lst:\n",
    "            if (ele == i):\n",
    "                count = count + 1\n",
    "        count_L.append(count)\n",
    "        \n",
    "    return count_L\n",
    "\n",
    "\n",
    "table([  1,   3,3])"
   ]
  },
  {
   "cell_type": "code",
   "execution_count": 10,
   "id": "a5e2d9bc",
   "metadata": {},
   "outputs": [],
   "source": [
    "\n",
    "def chisq_test_simple(X,\n",
    "                      p=[],\n",
    "                      B=2000\n",
    "                     ):\n",
    "    n = sum(X)\n",
    "    \n",
    "    if len(p) == 0:\n",
    "        p = np.repeat(np.array([1/len(X)]), len(X), axis=0)\n",
    "    else:\n",
    "        p = np.array(p)\n",
    "        \n",
    "    E = n * p\n",
    "    STATISTIC = sum((X - E) ** 2 / E)\n",
    "    almost_1 = 1 - 64 * 0.000000001\n",
    "    \n",
    "    nx = len(X)\n",
    "    \n",
    "    sm = np.random.choice(nx, size = B * n, replace = True, p = p)\n",
    "\n",
    "    # Make it matrix type\n",
    "    sm = np.reshape(sm, (-1, n))\n",
    "\n",
    "    def my_func(x, E):\n",
    "        #counts = np.unique(x, return_counts=True)[1]\n",
    "        counts = table(x)\n",
    "        #if len(counts) == nx:\n",
    "        return sum((counts - E)**2 / E)\n",
    "\n",
    "        \n",
    "    ss = np.apply_along_axis(my_func, 1, sm, E=E) # staca 2000 hat chi squared \n",
    "    # hashvi bolor ayn depqery vortex sim chi square > mer chi sq\n",
    "    simulate_p_value = (1 + sum(ss >= almost_1 * STATISTIC))/(B + 1)\n",
    "\n",
    "    return [\"The Chi Squared statistics is:\", STATISTIC, \"The P-value is:\", simulate_p_value]"
   ]
  },
  {
   "cell_type": "code",
   "execution_count": 11,
   "id": "9b246cb3",
   "metadata": {},
   "outputs": [
    {
     "data": {
      "text/plain": [
       "['The Chi Squared statistics is:',\n",
       " 7.135922330097087,\n",
       " 'The P-value is:',\n",
       " 0.12643678160919541]"
      ]
     },
     "execution_count": 11,
     "metadata": {},
     "output_type": "execute_result"
    }
   ],
   "source": [
    "chisq_test_simple([180,200,200,225,225])"
   ]
  },
  {
   "cell_type": "code",
   "execution_count": 12,
   "id": "ca31a26d",
   "metadata": {},
   "outputs": [
    {
     "data": {
      "text/plain": [
       "['The Chi Squared statistics is:',\n",
       " 3283.656413270638,\n",
       " 'The P-value is:',\n",
       " 0.0004997501249375312]"
      ]
     },
     "execution_count": 12,
     "metadata": {},
     "output_type": "execute_result"
    }
   ],
   "source": [
    "chisq_test_simple([156,  144,  130,  140,  134,  0, 0,  0],\n",
    "                p=[0.01, 0.29, 0.2, 0.2,  0.15,  0.1, 0.025, 0.025])"
   ]
  }
 ],
 "metadata": {
  "kernelspec": {
   "display_name": "Python 3",
   "language": "python",
   "name": "python3"
  },
  "language_info": {
   "codemirror_mode": {
    "name": "ipython",
    "version": 3
   },
   "file_extension": ".py",
   "mimetype": "text/x-python",
   "name": "python",
   "nbconvert_exporter": "python",
   "pygments_lexer": "ipython3",
   "version": "3.8.8"
  }
 },
 "nbformat": 4,
 "nbformat_minor": 5
}
