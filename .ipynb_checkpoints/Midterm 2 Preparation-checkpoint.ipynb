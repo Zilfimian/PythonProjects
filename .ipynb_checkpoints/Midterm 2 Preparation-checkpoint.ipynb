{
 "cells": [
  {
   "cell_type": "markdown",
   "metadata": {},
   "source": [
    "1. Կանչել `getArrayElement()` մեթոդը և կատարել սխալների մշակում։ (3 միավոր)\n",
    "    * `IndexError`-ի դեպքում տպել `Invalid index` տեքստը\n",
    "    * `ValueError`-ի դեպքում տպել `Invalid value` տեքստը\n",
    "    * Հաջող աշխատանքի դեպքում տպել մեթոդի վերադարձրած արժեքը։"
   ]
  },
  {
   "cell_type": "code",
   "execution_count": 62,
   "metadata": {},
   "outputs": [
    {
     "data": {
      "text/plain": [
       "6"
      ]
     },
     "execution_count": 62,
     "metadata": {},
     "output_type": "execute_result"
    }
   ],
   "source": [
    "def getArrayElement(array, index):\n",
    "    if array is None or index is None:\n",
    "        raise ValueError()\n",
    "    if index > len(array) - 1:\n",
    "        raise IndexError()\n",
    "    return array[index]\n",
    "\n",
    "getArrayElement([1,5,6,7], 2)"
   ]
  },
  {
   "cell_type": "code",
   "execution_count": 42,
   "metadata": {},
   "outputs": [],
   "source": [
    "#getArrayElement([1,5,6,7], 5)\n",
    "#getArrayElement(None, 5)\n",
    "#getArrayElement(5,None)"
   ]
  },
  {
   "cell_type": "code",
   "execution_count": 43,
   "metadata": {},
   "outputs": [
    {
     "name": "stdout",
     "output_type": "stream",
     "text": [
      "Invalid value!\n"
     ]
    }
   ],
   "source": [
    "# Solution 1\n",
    "try:\n",
    "    b = getArrayElement([1,5,6,7], None)\n",
    "    print(b)\n",
    "except(ValueError):\n",
    "    print(\"Invalid value!\")\n",
    "except(IndexError):\n",
    "    print(\"Invalid index\")"
   ]
  },
  {
   "cell_type": "code",
   "execution_count": null,
   "metadata": {},
   "outputs": [],
   "source": [
    "# my solution\n",
    "# Methods are simply another kind of function that reside in classes.\n",
    "# 1) those associated with the class itself\n",
    "# 2) those associated with an instance of a class; \n",
    "# is part of the individual instances"
   ]
  },
  {
   "cell_type": "code",
   "execution_count": 9,
   "metadata": {},
   "outputs": [
    {
     "name": "stdout",
     "output_type": "stream",
     "text": [
      "Hello there!\n"
     ]
    }
   ],
   "source": [
    "class MyClass:\n",
    "    def SayHello(): # SayHEllo() is attribute (method) of class\n",
    "        print(\"Hello there!\")\n",
    "\n",
    "MyClass.SayHello()"
   ]
  },
  {
   "cell_type": "code",
   "execution_count": 6,
   "metadata": {},
   "outputs": [
    {
     "name": "stdout",
     "output_type": "stream",
     "text": [
      "Hello there!\n"
     ]
    }
   ],
   "source": [
    "#2 All instance methods accept a single argument as a minimum, self. \n",
    "class MyClass:\n",
    "    def SayHello(self):\n",
    "        print(\"Hello there!\")\n",
    "        \n",
    "MyInstance = MyClass() #Python creates an instance of MyClass named MyInstance.\n",
    "MyInstance.SayHello()"
   ]
  },
  {
   "cell_type": "code",
   "execution_count": null,
   "metadata": {},
   "outputs": [],
   "source": [
    "#l = [1,2,3,0]\n",
    "\n",
    "\n",
    "#try:\n",
    "# for i in range(0, len(l)):\n",
    "#     print(1/l[i])\n",
    "#    # l=[]\n",
    "#except(ZeroDivisionError, ValueError) as ort:\n",
    "#    print(ort)\n",
    "#except(IndexError):\n",
    "#    print(\"Index Error\")\n",
    "#finally:\n",
    "#    l=[]\n",
    "#print(l)\n",
    "\n",
    "\n",
    "\n",
    "\n",
    "l = [1,2,3,0]\n",
    "\n",
    "\n",
    "#try:\n",
    "# for i in range(0, len(l)):\n",
    "#     print(1/l[i])\n",
    "#     l=[]\n",
    "#except(ZeroDivisionError, ValueError) as ort:\n",
    "#    print(ort)\n",
    "#except(IndexError):\n",
    "#    print(\"Index Error\")\n",
    "#finally:\n",
    "    # l=[]\n",
    "#    print(\"something\")\n",
    "#    print(l)"
   ]
  },
  {
   "cell_type": "code",
   "execution_count": null,
   "metadata": {},
   "outputs": [],
   "source": [
    "# What is Exception?\n",
    "# An exception is a Python object that represents an error.\n",
    "# try:\n",
    "# You do your operations here;\n",
    "# ......................\n",
    "# except ExceptionI:\n",
    "# If there is ExceptionI, then execute this block.\n",
    "# except ExceptionII:\n",
    "# If there is ExceptionII, then execute this block.\n",
    "# ......................\n",
    "# else:\n",
    "# If there is no exception then execute this block.\n",
    "\n",
    "# try:\n",
    "#    fh = open(\"testfile\", \"w\")\n",
    "#    fh.write(\"This is my test file for exception handling!!\")\n",
    "# except IOError:\n",
    "#    print \"Error: can\\'t find file or read data\"\n",
    "# else:\n",
    "#    print \"Written content in the file successfully\"\n",
    "#    fh.close()"
   ]
  },
  {
   "cell_type": "markdown",
   "metadata": {},
   "source": [
    "2. Իմպլեմենտացնել `LinearEquation` class-ը, որը ստանում է գծային հավասարման մասին ինֆորմացիան `__init__` մեթոդով։ `class`-ը պետք է ունենա նաև `solve()` մեթոդ, որը կվերդարձնի հավասարման միակ լուծումը, եթե այն ունի միակ լուծում, հակառակ դեպքում կնետի սխալ։ Լուծում չունենալու և անվերջ թվով լուծումներ ունենալու դեպքում պետք է նետվի տարբեր տիպի սխալներ։ (3 միավոր)"
   ]
  },
  {
   "cell_type": "code",
   "execution_count": 82,
   "metadata": {},
   "outputs": [],
   "source": [
    "# Solution 2\n",
    "class NoSolutionError(Exception):\n",
    "    \"\"\" Raised when the lineq has no solution\"\"\"\n",
    "    pass\n",
    "class InfiniteSolutionEror(Exception):\n",
    "    \"\"\"Raised when the lineq has infinitely many solutions\"\"\"\n",
    "    pass\n",
    "\n",
    "class LinearEquation():\n",
    "    \n",
    "    def __init__(self, k, b):\n",
    "        self.k = k\n",
    "        self.b = b\n",
    "\n",
    "    def solve(self):\n",
    "\n",
    "        if(self.k == 0 and self.b == 0):\n",
    "            raise InfiniteSolutionEror()\n",
    "        if(self.k == 0 and self.b !=0 ):\n",
    "            raise NoSolutionError()\n",
    "\n",
    "        return self.b / self.k"
   ]
  },
  {
   "cell_type": "code",
   "execution_count": 86,
   "metadata": {},
   "outputs": [
    {
     "name": "stdout",
     "output_type": "stream",
     "text": [
      "3.0\n"
     ]
    }
   ],
   "source": [
    "myvalues = LinearEquation(5, 15)\n",
    "print(myvalues.solve())"
   ]
  },
  {
   "cell_type": "code",
   "execution_count": 94,
   "metadata": {},
   "outputs": [
    {
     "name": "stdout",
     "output_type": "stream",
     "text": [
      "no solution\n"
     ]
    }
   ],
   "source": [
    "try:\n",
    "    a= LinearEquation(0, 15)\n",
    "    print(a.solve())\n",
    "except(NoSolutionError):\n",
    "    print(\"no solution\")\n",
    "except(InfiniteSolutionEror):\n",
    "    print(\"infinitely many solutions\")"
   ]
  },
  {
   "cell_type": "code",
   "execution_count": 136,
   "metadata": {},
   "outputs": [
    {
     "name": "stdout",
     "output_type": "stream",
     "text": [
      "L\n",
      "u\n",
      "s\n",
      "i\n",
      "n\n"
     ]
    }
   ],
   "source": [
    "# about pass:\n",
    "str2 = \"Lusine\"\n",
    "for i in str2:\n",
    "    if i == \"e\":\n",
    "        pass\n",
    "    else:\n",
    "        print(i)"
   ]
  },
  {
   "cell_type": "markdown",
   "metadata": {},
   "source": [
    "3. Իմպլեմենտացնել `Queue` տվյալների կառուցվածքը։ (4 միավոր)\n",
    "\n",
    "```\n",
    "    class Queue:\n",
    "        \n",
    "        # Ավելացնում է նոր էլեմենտ\n",
    "        def enqueue(element)\n",
    "        \n",
    "        # Վերադարձնում է հաջորդ էլեմենտը և հեռացնում է այն queue-ից։ Պետք է նետի սխալ, եթե հաջորդ էլեմենտ չկա\n",
    "        def dequeue()\n",
    "\n",
    "        # Վերասահմանել __repr__ մեթոդը այնպես, որ այն վերդարձնի queue-ի բոլոր էլեմենտները ըստ հերթականության\n",
    "        def __repr__()\n",
    "\n",
    "        # Դատարկում է queue-ն մաքրելով եղած բոլոր էլեմենտները\n",
    "        def clear()\n",
    "```"
   ]
  },
  {
   "cell_type": "code",
   "execution_count": 58,
   "metadata": {},
   "outputs": [],
   "source": [
    "class EmptyQueueError(Exception):\n",
    "    pass\n",
    "    \n",
    "class Queue():\n",
    "    __data = []                 #     or def __init__(self):  self.__data = []\n",
    "\n",
    "    def Enqueue(self, __data): # \n",
    "        '''\n",
    "        append method\n",
    "        '''\n",
    "        \n",
    "        self.__data.append(__data)\n",
    "    def dequeue(self): # pop method\n",
    "        '''\n",
    "        remove not the last but the first one\n",
    "        '''\n",
    "        \n",
    "        if len(self.__data)==0:\n",
    "            raise EmptyQueueError\n",
    "        else:\n",
    "            return self.__data.pop(0) #pop(0) as we want to remove not the last but the first one\n",
    "\n",
    "    def __repr__(self): \n",
    "        '''\n",
    "        Print results.\n",
    "        '''\n",
    "        \n",
    "        repr = \"[\"\n",
    "        for i in  range(len(self.__data)):\n",
    "            repr += ' '+ str( self.__data[i])\n",
    "        repr +=\"]\"    \n",
    "        return repr   \n",
    "\n",
    "    def clear(self):\n",
    "        '''\n",
    "        Clears all items from the queue.\n",
    "        '''\n",
    "        for i in  range(len(self.__data)):\n",
    "            self.__data.pop(0)\n",
    "        return self.__data "
   ]
  },
  {
   "cell_type": "code",
   "execution_count": 59,
   "metadata": {},
   "outputs": [
    {
     "name": "stdout",
     "output_type": "stream",
     "text": [
      "[ Something 1995]\n"
     ]
    }
   ],
   "source": [
    "q=Queue()\n",
    "q.Enqueue(\"Something\")\n",
    "q.Enqueue(1995)\n",
    "print(q)"
   ]
  },
  {
   "cell_type": "code",
   "execution_count": 61,
   "metadata": {},
   "outputs": [
    {
     "name": "stdout",
     "output_type": "stream",
     "text": [
      "[]\n"
     ]
    }
   ],
   "source": [
    "print(q)"
   ]
  },
  {
   "cell_type": "code",
   "execution_count": 60,
   "metadata": {},
   "outputs": [
    {
     "data": {
      "text/plain": [
       "[]"
      ]
     },
     "execution_count": 60,
     "metadata": {},
     "output_type": "execute_result"
    }
   ],
   "source": [
    "q.clear()"
   ]
  },
  {
   "cell_type": "code",
   "execution_count": 41,
   "metadata": {},
   "outputs": [
    {
     "data": {
      "text/plain": [
       "'Something'"
      ]
     },
     "execution_count": 41,
     "metadata": {},
     "output_type": "execute_result"
    }
   ],
   "source": [
    "q.dequeue()"
   ]
  },
  {
   "cell_type": "code",
   "execution_count": 42,
   "metadata": {},
   "outputs": [
    {
     "data": {
      "text/plain": [
       "1995"
      ]
     },
     "execution_count": 42,
     "metadata": {},
     "output_type": "execute_result"
    }
   ],
   "source": [
    "q.dequeue()"
   ]
  },
  {
   "cell_type": "code",
   "execution_count": null,
   "metadata": {},
   "outputs": [],
   "source": []
  },
  {
   "cell_type": "code",
   "execution_count": 6,
   "metadata": {},
   "outputs": [
    {
     "name": "stdout",
     "output_type": "stream",
     "text": [
      "Something\n"
     ]
    }
   ],
   "source": [
    "try:\n",
    "    print(q.dequeue())\n",
    "except(EmptyQueueError):\n",
    "    print(\"EmptyQueueError!!!\")"
   ]
  },
  {
   "cell_type": "code",
   "execution_count": 22,
   "metadata": {},
   "outputs": [
    {
     "name": "stdout",
     "output_type": "stream",
     "text": [
      "[ Something 1995]\n"
     ]
    }
   ],
   "source": [
    "print(q)"
   ]
  },
  {
   "cell_type": "code",
   "execution_count": 12,
   "metadata": {},
   "outputs": [
    {
     "name": "stdout",
     "output_type": "stream",
     "text": [
      "[]\n"
     ]
    }
   ],
   "source": [
    "print(q)"
   ]
  }
 ],
 "metadata": {
  "interpreter": {
   "hash": "1390a265addfeb7ae785608f965e29ab5f8b060846fe2231e22c0e6e8ccdc361"
  },
  "kernelspec": {
   "display_name": "Python 3",
   "language": "python",
   "name": "python3"
  },
  "language_info": {
   "codemirror_mode": {
    "name": "ipython",
    "version": 3
   },
   "file_extension": ".py",
   "mimetype": "text/x-python",
   "name": "python",
   "nbconvert_exporter": "python",
   "pygments_lexer": "ipython3",
   "version": "3.8.8"
  }
 },
 "nbformat": 4,
 "nbformat_minor": 2
}
